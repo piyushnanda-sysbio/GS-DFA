{
 "cells": [
  {
   "cell_type": "code",
   "execution_count": 2,
   "metadata": {},
   "outputs": [],
   "source": [
    "import cobra\n",
    "import numpy as np\n",
    "import pandas as pd\n",
    "import matplotlib.pyplot as plt\n",
    "\n",
    "%matplotlib inline"
   ]
  },
  {
   "cell_type": "code",
   "execution_count": 3,
   "metadata": {},
   "outputs": [],
   "source": [
    "model=cobra.io.load_matlab_model('HumanGEMNHBESARS_cons.mat')\n",
    "model.objective='Cov2VBOF'"
   ]
  },
  {
   "cell_type": "code",
   "execution_count": 5,
   "metadata": {},
   "outputs": [],
   "source": [
    "bio=model.reactions.get_by_id('Cov2VBOF')\n",
    "met_pc=bio.metabolites\n",
    "met_names=[]\n",
    "met_coeff=[]\n",
    "met_formula=[]\n",
    "met_chemnames=[]\n",
    "for met in met_pc:\n",
    "    met_names.append(met.id)\n",
    "    met_coeff.append(met_pc[met])\n"
   ]
  },
  {
   "cell_type": "code",
   "execution_count": 6,
   "metadata": {},
   "outputs": [],
   "source": [
    "def gr(p,metc,metn):\n",
    "        \n",
    "        #Increase\n",
    "        modelf=model.copy()\n",
    "        biof=modelf.reactions.get_by_id('Cov2VBOF')\n",
    "        biof.add_metabolites({modelf.metabolites.get_by_id(metn):p*(-metc)})\n",
    "        gr_plus10=modelf.slim_optimize()\n",
    "#         print(gr_plus10)\n",
    "#         optgr_p10=cnratio(modelf)\n",
    "        \n",
    "        #Decrease\n",
    "        modelf=model.copy()\n",
    "        biof=modelf.reactions.get_by_id('Cov2VBOF')\n",
    "        biof.add_metabolites({modelf.metabolites.get_by_id(metn):p*(metc)})\n",
    "        gr_minus10=modelf.slim_optimize()\n",
    "#         print(gr_minus10)\n",
    "        \n",
    "        return [gr_plus10,gr_minus10,metn]"
   ]
  },
  {
   "cell_type": "code",
   "execution_count": 7,
   "metadata": {},
   "outputs": [],
   "source": [
    "def sensitivity(p):\n",
    "    p10=[]\n",
    "    m10=[]\n",
    "    mname=[]\n",
    "    for metn,metc in zip(met_names,met_coeff):\n",
    "        print('Current Biomass Precursor: ',metn)\n",
    "        \n",
    "        if(metc<0):\n",
    "            gr_out=gr(p,metc,metn)\n",
    "            if(gr_out!=None):\n",
    "                p10.append(gr_out[0])\n",
    "                m10.append(gr_out[1])\n",
    "                mname.append(gr_out[2])\n",
    "    return [p10,m10,mname]\n",
    "    #     print('Increase-Growth Rate: ',grp10)\n",
    "    #     print('Decrease-Growth Rate: ',grm10)"
   ]
  },
  {
   "cell_type": "code",
   "execution_count": 8,
   "metadata": {},
   "outputs": [],
   "source": [
    "def impact(p10,m10):\n",
    "    imp=[]\n",
    "    for pgr,ngr in zip(p10,m10):\n",
    "        val=(pgr-ngr)/(2*p*(model.slim_optimize()))\n",
    "        imp.append(val)\n",
    "    return imp"
   ]
  },
  {
   "cell_type": "code",
   "execution_count": 9,
   "metadata": {},
   "outputs": [
    {
     "name": "stdout",
     "output_type": "stream",
     "text": [
      "Current Biomass Precursor:  m01285c\n",
      "Current Biomass Precursor:  m01307c\n",
      "Current Biomass Precursor:  m01365c\n",
      "Current Biomass Precursor:  m01369c\n",
      "Current Biomass Precursor:  m01370c\n",
      "Current Biomass Precursor:  m01371c\n",
      "Current Biomass Precursor:  m01450c\n",
      "Current Biomass Precursor:  m01623c\n",
      "Current Biomass Precursor:  m01628c\n",
      "Current Biomass Precursor:  m01974c\n",
      "Current Biomass Precursor:  m01975c\n",
      "Current Biomass Precursor:  m01986c\n",
      "Current Biomass Precursor:  m02034c\n",
      "Current Biomass Precursor:  m02039c\n",
      "Current Biomass Precursor:  m02040c\n",
      "Current Biomass Precursor:  m02125c\n",
      "Current Biomass Precursor:  m02184c\n",
      "Current Biomass Precursor:  m02360c\n",
      "Current Biomass Precursor:  m02426c\n",
      "Current Biomass Precursor:  m02471c\n",
      "Current Biomass Precursor:  m02527c\n",
      "Current Biomass Precursor:  m02684c\n",
      "Current Biomass Precursor:  m02685c\n",
      "Current Biomass Precursor:  m02724c\n",
      "Current Biomass Precursor:  m02750c\n",
      "Current Biomass Precursor:  m02751c\n",
      "Current Biomass Precursor:  m02759c\n",
      "Current Biomass Precursor:  m02770c\n",
      "Current Biomass Precursor:  m02808c\n",
      "Current Biomass Precursor:  m02896c\n",
      "Current Biomass Precursor:  m02908c\n",
      "Current Biomass Precursor:  m02993c\n",
      "Current Biomass Precursor:  m03089c\n",
      "Current Biomass Precursor:  m03101c\n",
      "Current Biomass Precursor:  m03130c\n",
      "Current Biomass Precursor:  m03135c\n",
      "Current Biomass Precursor:  sarscov2c\n"
     ]
    }
   ],
   "source": [
    "pgr=[]\n",
    "ngr=[]\n",
    "\n",
    "get_list=sensitivity(0.1)\n",
    "#     impact_vals=impact(get_list[0],get_list[1])\n",
    "data=pd.DataFrame(index=get_list[2])\n",
    "\n",
    "pgr.append(get_list[0])\n",
    "ngr.append(get_list[1])"
   ]
  },
  {
   "cell_type": "code",
   "execution_count": 10,
   "metadata": {},
   "outputs": [],
   "source": [
    "data['Increase']=pgr[0]\n",
    "data['Decrease']=ngr[0]\n",
    "data['Diff']=data['Increase']-data['Decrease']"
   ]
  },
  {
   "cell_type": "code",
   "execution_count": 16,
   "metadata": {},
   "outputs": [],
   "source": [
    "data=data.sort_values(by='Diff',ascending=False)"
   ]
  },
  {
   "cell_type": "code",
   "execution_count": 44,
   "metadata": {},
   "outputs": [],
   "source": [
    "met_names=[]\n",
    "for ix in data.index:\n",
    "    met_names.append(model.metabolites.get_by_id(ix).name.capitalize())"
   ]
  },
  {
   "cell_type": "code",
   "execution_count": 66,
   "metadata": {},
   "outputs": [],
   "source": [
    "df_sorted=data.iloc[0:10,:]"
   ]
  },
  {
   "cell_type": "code",
   "execution_count": 77,
   "metadata": {},
   "outputs": [],
   "source": [
    "met_names[9]='NAG'"
   ]
  },
  {
   "cell_type": "code",
   "execution_count": 89,
   "metadata": {},
   "outputs": [
    {
     "data": {
      "image/png": "[encoded data removed]",
      "text/plain": [
       "<Figure size 360x504 with 1 Axes>"
      ]
     },
     "metadata": {},
     "output_type": "display_data"
    }
   ],
   "source": [
    "import matplotlib.ticker as ticker\n",
    "\n",
    "plt.style.use('seaborn-white')\n",
    "\n",
    "fig,ax=plt.subplots(nrows=1,ncols=1,figsize=(5,7))\n",
    "ax.bar(df_sorted.index,df_sorted['Diff'],bottom=df_sorted['Decrease'],color='b')\n",
    "ax.set_xlabel('Biomass Precursors',fontsize=14)\n",
    "ax.set_ylabel('Growth rate (1/hr)',fontsize=14)\n",
    "# ax.set_xlim([0.205,0.24])\n",
    "# plt.yticks(np.arange(0,len(df_sorted)),rotation=90)\n",
    "ax.set_xticklabels(met_names[0:10],fontsize=12,rotation=90)\n",
    "ax.plot(df_sorted['Increase'],'ro')\n",
    "ax.plot(df_sorted['Decrease'],'yo')\n",
    "ax.legend(['10% increase in coefficients','10% decrease in coefficients'],fontsize=10)\n",
    "ax.set_ylim(0.11,0.14)\n",
    "# ax.plot([9.5,9.5],[0.11,0.14])\n",
    "plt.gca().invert_xaxis()\n",
    "# plt.text(27,0.111,'No effect on growth rate',fontsize=12)\n",
    "# plt.text(8.5,0.111,'Effect on growth rate',fontsize=12)\n",
    "fig.tight_layout()\n",
    "\n",
    "fig.savefig('D:/COVID19/Manuscript/Figure1E.png',dpi=600)"
   ]
  }
 ],
 "metadata": {
  "kernelspec": {
   "display_name": "Python 3",
   "language": "python",
   "name": "python3"
  },
  "language_info": {
   "codemirror_mode": {
    "name": "ipython",
    "version": 3
   },
   "file_extension": ".py",
   "mimetype": "text/x-python",
   "name": "python",
   "nbconvert_exporter": "python",
   "pygments_lexer": "ipython3",
   "version": "3.7.3"
  }
 },
 "nbformat": 4,
 "nbformat_minor": 2
}
