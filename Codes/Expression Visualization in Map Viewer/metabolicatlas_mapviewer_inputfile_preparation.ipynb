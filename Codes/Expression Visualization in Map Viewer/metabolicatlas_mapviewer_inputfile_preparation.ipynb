{
 "cells": [
  {
   "cell_type": "code",
   "execution_count": 1,
   "metadata": {},
   "outputs": [],
   "source": [
    "import pandas as pd"
   ]
  },
  {
   "cell_type": "code",
   "execution_count": null,
   "metadata": {},
   "outputs": [],
   "source": [
    "expr=pd.read_csv('MetTPMAll.csv')\n",
    "\n",
    "df_atlas=pd.DataFrame({'geneID':expr.iloc[:,1],'control':expr.iloc[:,2:5].mean(axis=1),'experimental':expr.iloc[:,5:8].mean(axis=1)})\n",
    "\n",
    "df=df_atlas.set_index(df_atlas['geneID'],drop=True)\n",
    "\n",
    "df=df.drop('geneID',axis=1)\n",
    "\n",
    "df.to_csv('NHBEVisualization.tsv',sep='\\t')"
   ]
  }
 ],
 "metadata": {
  "kernelspec": {
   "display_name": "Python 3",
   "language": "python",
   "name": "python3"
  },
  "language_info": {
   "codemirror_mode": {
    "name": "ipython",
    "version": 3
   },
   "file_extension": ".py",
   "mimetype": "text/x-python",
   "name": "python",
   "nbconvert_exporter": "python",
   "pygments_lexer": "ipython3",
   "version": "3.7.3"
  }
 },
 "nbformat": 4,
 "nbformat_minor": 2
}
